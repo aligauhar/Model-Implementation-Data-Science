{
 "cells": [
  {
   "cell_type": "code",
   "execution_count": null,
   "id": "859e6e26-ffea-499e-956f-87df5086625f",
   "metadata": {},
   "outputs": [],
   "source": [
    "!pip install prettytable"
   ]
  },
  {
   "cell_type": "code",
   "execution_count": 5,
   "id": "6fdd03fa-0898-4b97-93db-2c86d047c862",
   "metadata": {
    "tags": []
   },
   "outputs": [
    {
     "data": {
      "text/markdown": [
       "### Web Scraping"
      ],
      "text/plain": [
       "<IPython.core.display.Markdown object>"
      ]
     },
     "metadata": {},
     "output_type": "display_data"
    },
    {
     "data": {
      "text/markdown": [
       "This program extracts quotes and their authors from a website using BeautifulSoup and requests."
      ],
      "text/plain": [
       "<IPython.core.display.Markdown object>"
      ]
     },
     "metadata": {},
     "output_type": "display_data"
    },
    {
     "data": {
      "text/markdown": [
       "#### Quotes and Authors:"
      ],
      "text/plain": [
       "<IPython.core.display.Markdown object>"
      ]
     },
     "metadata": {},
     "output_type": "display_data"
    },
    {
     "name": "stdout",
     "output_type": "stream",
     "text": [
      "+-------------------------------------------------------------------------------------------------------------------------------------+-------------------+\n",
      "|                                                                Quote                                                                |       Author      |\n",
      "+-------------------------------------------------------------------------------------------------------------------------------------+-------------------+\n",
      "|         “The world as we have created it is a process of our thinking. It cannot be changed without changing our thinking.”         |  Albert Einstein  |\n",
      "|                        “It is our choices, Harry, that show what we truly are, far more than our abilities.”                        |    J.K. Rowling   |\n",
      "| “There are only two ways to live your life. One is as though nothing is a miracle. The other is as though everything is a miracle.” |  Albert Einstein  |\n",
      "|               “The person, be it gentleman or lady, who has not pleasure in a good novel, must be intolerably stupid.”              |    Jane Austen    |\n",
      "|           “Imperfection is beauty, madness is genius and it's better to be absolutely ridiculous than absolutely boring.”           |   Marilyn Monroe  |\n",
      "|                                 “Try not to become a man of success. Rather become a man of value.”                                 |  Albert Einstein  |\n",
      "|                          “It is better to be hated for what you are than to be loved for what you are not.”                         |     André Gide    |\n",
      "|                                  “I have not failed. I've just found 10,000 ways that won't work.”                                  |  Thomas A. Edison |\n",
      "|                        “A woman is like a tea bag; you never know how strong it is until it's in hot water.”                        | Eleanor Roosevelt |\n",
      "|                                          “A day without sunshine is like, you know, night.”                                         |    Steve Martin   |\n",
      "+-------------------------------------------------------------------------------------------------------------------------------------+-------------------+\n"
     ]
    }
   ],
   "source": [
    "import requests\n",
    "from bs4 import BeautifulSoup\n",
    "from prettytable import PrettyTable\n",
    "from IPython.display import Markdown, display\n",
    "\n",
    "def scrape_quotes(url):\n",
    "    response = requests.get(url)\n",
    "\n",
    "    if response.status_code == 200:\n",
    "        soup = BeautifulSoup(response.content, 'html.parser')\n",
    "\n",
    "        quote_divs = soup.find_all('div', class_='quote')\n",
    "\n",
    "        display(Markdown('### Web Scraping'))\n",
    "\n",
    "        display(Markdown('This program extracts quotes and their authors from a website using BeautifulSoup and requests.'))\n",
    "\n",
    "        display(Markdown('#### Quotes and Authors:'))\n",
    "        table = PrettyTable(['Quote', 'Author'])\n",
    "        for quote_div in quote_divs:\n",
    "            quote = quote_div.find('span', class_='text').text\n",
    "            author = quote_div.find('small', class_='author').text\n",
    "            table.add_row([quote, author])\n",
    "\n",
    "        print(table)\n",
    "\n",
    "    else:\n",
    "        print(f\"Failed to retrieve the page. Status code: {response.status_code}\")\n",
    "\n",
    "url_to_scrape = 'http://quotes.toscrape.com'\n",
    "scrape_quotes(url_to_scrape)\n"
   ]
  },
  {
   "cell_type": "code",
   "execution_count": null,
   "id": "7f9f0ad1-cec3-40eb-95b4-f37b6cd84a77",
   "metadata": {},
   "outputs": [],
   "source": []
  }
 ],
 "metadata": {
  "kernelspec": {
   "display_name": "Python 3 (ipykernel)",
   "language": "python",
   "name": "python3"
  },
  "language_info": {
   "codemirror_mode": {
    "name": "ipython",
    "version": 3
   },
   "file_extension": ".py",
   "mimetype": "text/x-python",
   "name": "python",
   "nbconvert_exporter": "python",
   "pygments_lexer": "ipython3",
   "version": "3.10.6"
  }
 },
 "nbformat": 4,
 "nbformat_minor": 5
}
