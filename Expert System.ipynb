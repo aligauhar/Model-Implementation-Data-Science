{
 "cells": [
  {
   "cell_type": "code",
   "execution_count": 2,
   "id": "47d06d36-2810-4b12-96b2-e226c3a500fb",
   "metadata": {
    "tags": []
   },
   "outputs": [
    {
     "data": {
      "text/markdown": [
       "## Expert System\n"
      ],
      "text/plain": [
       "<IPython.core.display.Markdown object>"
      ]
     },
     "metadata": {},
     "output_type": "display_data"
    },
    {
     "name": "stdout",
     "output_type": "stream",
     "text": [
      "This particular expert system provides animal identification information.  \n",
      "This system identifies the animals according to the following rules.\n",
      "\n",
      "Enter 'y', 'Y', 'N' or 'n'\n"
     ]
    },
    {
     "name": "stdin",
     "output_type": "stream",
     "text": [
      "The animal has hair?:  n\n",
      "The animal gives milk?:  n\n",
      "The animal has feathers?:  n\n",
      "The animal has flies and lays eggs?:  n\n",
      "The animal is a mammal and eats meat?:  n\n",
      "The animal is a mammal. The animal has pointed teeth, claws, and is yellow and brown?:  n\n",
      "The animal is a mammal. The animal has hooves?:  y\n"
     ]
    },
    {
     "name": "stdout",
     "output_type": "stream",
     "text": [
      "It is a carnivore.\n"
     ]
    }
   ],
   "source": [
    "from IPython.display import Markdown, display\n",
    "\n",
    "display(Markdown(\"## Expert System\\n\"))\n",
    "\n",
    "print(\"This particular expert system provides animal identification information.  \")\n",
    "print(\"This system identifies the animals according to the following rules.\\n\")\n",
    "\n",
    "\n",
    "ans = ''\n",
    "print(\"Enter 'y', 'Y', 'N' or 'n'\")\n",
    "ans = input(\"The animal has hair?: \")\n",
    "if ans == 'N' or ans == 'n':\n",
    "    ans = input(\"The animal gives milk?: \")\n",
    "    if ans == 'N' or ans == 'n':\n",
    "        ans = input(\"The animal has feathers?: \")\n",
    "        if ans == 'N' or ans == 'n':\n",
    "            ans = input(\"The animal has flies and lays eggs?: \")\n",
    "            if ans == 'N' or ans == 'n':\n",
    "                ans = input(\"The animal is a mammal and eats meat?: \")\n",
    "                if ans == 'N' or ans == 'n':\n",
    "                    ans = input(\"The animal is a mammal. The animal has pointed teeth, claws, and is yellow and brown?: \")\n",
    "                    if ans == 'N' or ans == 'n':\n",
    "                        ans = input(\"The animal is a mammal. The animal has hooves?: \")\n",
    "                        if ans == 'N' or ans == 'n':\n",
    "                            ans = input(\"The animal is a mammal. The animal chews cud?: \")\n",
    "                            if ans == 'N' or ans == 'n':\n",
    "                                ans = input(\"The animal is a carnivore. The animal has a tawny color and dark vertical stripes?: \")\n",
    "                                if ans == 'N' or ans == 'n':\n",
    "                                    ans = input(\"The animal is a carnivore. The animal has a tawny color, dark vertical stripes, and a long tail?: \")\n",
    "                                    if ans == 'N' or ans == 'n':\n",
    "                                        ans = input(\"The animal is an ungulate. The animal has long legs, a long neck, and is black and white?: \")\n",
    "                                        if ans == 'N' or ans == 'n':\n",
    "                                            ans = input(\"The animal is an ungulate. The animal has a white color and black stripes?: \")\n",
    "                                            if ans == 'N' or ans == 'n':\n",
    "                                                ans = input(\"The animal is a bird. The animal does not fly and has a long neck?: \")\n",
    "                                                if ans == 'N' or ans == 'n':\n",
    "                                                    ans = input(\"The animal is a bird. The animal does not fly and is black and white?: \")\n",
    "                                                    if ans == 'N' or ans == 'n':\n",
    "                                                        ans = input(\"The animal is a bird and is a good flier?: \")\n",
    "                                                        if ans == 'N' or ans == 'n':\n",
    "                                                            print(\"No data found\")\n",
    "                                                        else:\n",
    "                                                            print(\"It is an albatross.\")\n",
    "                                                    else:\n",
    "                                                        print(\"It is a penguin.\")\n",
    "                                                else:\n",
    "                                                    print(\"It is an ostrich.\")\n",
    "                                            else:\n",
    "                                                print(\"It is a zebra.\")\n",
    "                                        else:\n",
    "                                            print(\"It is a tiger.\")\n",
    "                                    else:\n",
    "                                        print(\"It is a cheetah.\")\n",
    "                                else:\n",
    "                                    print(\"It is an ungulate AND...\")\n",
    "                            else:\n",
    "                                print(\"It is an ungulate.\")\n",
    "                        else:\n",
    "                            print(\"It is a carnivore.\")\n",
    "                    else:\n",
    "                        print(\"It is a carnivore.\")\n",
    "                else:\n",
    "                    print(\"It is a bird.\")\n",
    "            else:\n",
    "                print(\"It is a bird.\")\n",
    "        else:\n",
    "            print(\"It is a mammal.\")\n",
    "    else:\n",
    "        print(\"It is a mammal.\")\n",
    "else:\n",
    "    print(\"It is a mammal.\")\n"
   ]
  },
  {
   "cell_type": "code",
   "execution_count": null,
   "id": "13f1fe28-1847-4462-9bd6-32a02745f863",
   "metadata": {},
   "outputs": [],
   "source": []
  }
 ],
 "metadata": {
  "kernelspec": {
   "display_name": "Python 3 (ipykernel)",
   "language": "python",
   "name": "python3"
  },
  "language_info": {
   "codemirror_mode": {
    "name": "ipython",
    "version": 3
   },
   "file_extension": ".py",
   "mimetype": "text/x-python",
   "name": "python",
   "nbconvert_exporter": "python",
   "pygments_lexer": "ipython3",
   "version": "3.10.6"
  }
 },
 "nbformat": 4,
 "nbformat_minor": 5
}
