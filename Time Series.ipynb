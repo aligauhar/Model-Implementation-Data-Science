{
 "cells": [
  {
   "cell_type": "code",
   "execution_count": null,
   "id": "79951d45-171f-4101-8617-7c708876f76f",
   "metadata": {
    "tags": []
   },
   "outputs": [],
   "source": [
    "!pip install yfinance"
   ]
  },
  {
   "cell_type": "code",
   "execution_count": 34,
   "id": "17b1bfb2-03e6-49d5-9a76-15d46f2e4660",
   "metadata": {
    "tags": []
   },
   "outputs": [
    {
     "name": "stdin",
     "output_type": "stream",
     "text": [
      "Enter start date (YYYY-MM-DD):  2020-12-23\n",
      "Enter end date (YYYY-MM-DD):  2023-11-23\n"
     ]
    },
    {
     "name": "stdout",
     "output_type": "stream",
     "text": [
      "[*********************100%%**********************]  1 of 1 completed\n"
     ]
    },
    {
     "data": {
      "text/markdown": [
       "### Time Series"
      ],
      "text/plain": [
       "<IPython.core.display.Markdown object>"
      ]
     },
     "metadata": {},
     "output_type": "display_data"
    },
    {
     "data": {
      "text/markdown": [
       "### Asset Price Prediction"
      ],
      "text/plain": [
       "<IPython.core.display.Markdown object>"
      ]
     },
     "metadata": {},
     "output_type": "display_data"
    },
    {
     "data": {
      "text/markdown": [
       "This program predicts the next price of a specified asset (gold or BTC) using linear regression."
      ],
      "text/plain": [
       "<IPython.core.display.Markdown object>"
      ]
     },
     "metadata": {},
     "output_type": "display_data"
    },
    {
     "data": {
      "text/markdown": [
       "#### Preprocessing Output:"
      ],
      "text/plain": [
       "<IPython.core.display.Markdown object>"
      ]
     },
     "metadata": {},
     "output_type": "display_data"
    },
    {
     "name": "stdout",
     "output_type": "stream",
     "text": [
      "                    Open          High           Low         Close   \n",
      "Date                                                                 \n",
      "2020-12-23  23781.974609  24024.490234  22802.646484  23241.345703  \\\n",
      "2020-12-24  23240.203125  23768.337891  22777.597656  23735.949219   \n",
      "2020-12-25  23733.570312  24710.101562  23463.673828  24664.791016   \n",
      "2020-12-26  24677.015625  26718.070312  24522.689453  26437.037109   \n",
      "2020-12-27  26439.373047  28288.839844  25922.769531  26272.294922   \n",
      "\n",
      "               Adj Close       Volume  \n",
      "Date                                   \n",
      "2020-12-23  23241.345703  51146161904  \n",
      "2020-12-24  23735.949219  41080759713  \n",
      "2020-12-25  24664.791016  42068395846  \n",
      "2020-12-26  26437.037109  48332647295  \n",
      "2020-12-27  26272.294922  66479895605  \n"
     ]
    },
    {
     "data": {
      "text/markdown": [
       "#### Prediction Output:"
      ],
      "text/plain": [
       "<IPython.core.display.Markdown object>"
      ]
     },
     "metadata": {},
     "output_type": "display_data"
    },
    {
     "name": "stdout",
     "output_type": "stream",
     "text": [
      "Next Timestamp: 2023-11-23 00:00:00, Predicted Next Price: $536972.20\n"
     ]
    }
   ],
   "source": [
    "import pandas as pd\n",
    "from datetime import datetime, timedelta\n",
    "from sklearn.linear_model import LinearRegression\n",
    "import yfinance as yf\n",
    "import requests\n",
    "from bs4 import BeautifulSoup\n",
    "from IPython.display import Markdown, display\n",
    "\n",
    "def display_markdown(content):\n",
    "    display(Markdown(content))\n",
    "\n",
    "def get_btc_data(start_date, end_date):\n",
    "    btc_data = yf.download('BTC-USD', start=start_date, end=end_date)\n",
    "    return btc_data\n",
    "\n",
    "def scrape_live_gold_data():\n",
    "    gold_url = 'https://www.investing.com/commodities/gold'\n",
    "    headers = {'User-Agent': 'Mozilla/5.0 (Windows NT 10.0; Win64; x64) AppleWebKit/537.36 (KHTML, like Gecko) Chrome/91.0.4472.124 Safari/537.36'}\n",
    "    response = requests.get(gold_url, headers=headers)\n",
    "\n",
    "    if response.status_code == 200:\n",
    "        soup = BeautifulSoup(response.content, 'html.parser')\n",
    "        price_element = soup.find('span', {'id': 'last_last'})\n",
    "        price = float(price_element.text.replace(',', '')) \n",
    "\n",
    "        timestamp = datetime.now()\n",
    "\n",
    "        return pd.DataFrame({'Timestamp': [timestamp], 'price': [price]})\n",
    "    else:\n",
    "        raise ValueError(f\"Failed to retrieve gold data. Status code: {response.status_code}\")\n",
    "\n",
    "def preprocess_data(data):\n",
    "    return data\n",
    "\n",
    "def predict_next_price(data):\n",
    "    model = LinearRegression()\n",
    "    X = data.index.values.reshape(-1, 1)\n",
    "    y = data['Close'] if 'Close' in data.columns else data['price']  # Assuming 'Close' column for BTC and 'price' column for gold\n",
    "    model.fit(X, y)\n",
    "    next_timestamp = data.index.max() + pd.Timedelta(days=1)\n",
    "    next_price = model.predict([[len(data)]])[0]\n",
    "    return next_timestamp, next_price\n",
    "\n",
    "# asset_type = input(\"Enter asset type (gold or btc): \")\n",
    "asset_type = \"btc\"\n",
    "start_date_input = input(\"Enter start date (YYYY-MM-DD): \")\n",
    "start_date = datetime.strptime(start_date_input, '%Y-%m-%d')\n",
    "\n",
    "end_date_input = input(\"Enter end date (YYYY-MM-DD): \")\n",
    "end_date = datetime.strptime(end_date_input, '%Y-%m-%d')\n",
    "\n",
    "if asset_type.lower() == 'btc':\n",
    "    asset_data = get_btc_data(start_date, end_date)\n",
    "elif asset_type.lower() == 'gold':\n",
    "    asset_data = scrape_live_gold_data()\n",
    "else:\n",
    "    raise ValueError(\"Invalid asset type. Please enter 'gold' or 'btc'.\")\n",
    "\n",
    "display_markdown('### Time Series')\n",
    "display_markdown('### Asset Price Prediction')\n",
    "\n",
    "display_markdown('This program predicts the next price of a specified asset (gold or BTC) using linear regression.')\n",
    "\n",
    "display_markdown('#### Preprocessing Output:')\n",
    "preprocessed_data = preprocess_data(asset_data)\n",
    "print(preprocessed_data.head())\n",
    "\n",
    "display_markdown('#### Prediction Output:')\n",
    "next_timestamp, next_price = predict_next_price(asset_data)\n",
    "print(f'Next Timestamp: {next_timestamp}, Predicted Next Price: ${next_price:.2f}')\n"
   ]
  },
  {
   "cell_type": "code",
   "execution_count": 30,
   "id": "4ead3054-2075-4ec5-ae29-c3394bcab2cc",
   "metadata": {
    "tags": []
   },
   "outputs": [
    {
     "name": "stdin",
     "output_type": "stream",
     "text": [
      "Enter start date (YYYY-MM-DD):  2001-12-12\n",
      "Enter end date (YYYY-MM-DD):  2023-11-23\n"
     ]
    },
    {
     "name": "stdout",
     "output_type": "stream",
     "text": [
      "[*********************100%%**********************]  1 of 1 completed\n"
     ]
    },
    {
     "name": "stderr",
     "output_type": "stream",
     "text": [
      "C:\\Users\\aliga\\AppData\\Local\\Programs\\Python\\Python310\\lib\\site-packages\\statsmodels\\tsa\\base\\tsa_model.py:473: ValueWarning: No frequency information was provided, so inferred frequency D will be used.\n",
      "  self._init_dates(dates, freq)\n",
      "C:\\Users\\aliga\\AppData\\Local\\Programs\\Python\\Python310\\lib\\site-packages\\statsmodels\\tsa\\base\\tsa_model.py:473: ValueWarning: No frequency information was provided, so inferred frequency D will be used.\n",
      "  self._init_dates(dates, freq)\n",
      "C:\\Users\\aliga\\AppData\\Local\\Programs\\Python\\Python310\\lib\\site-packages\\statsmodels\\tsa\\base\\tsa_model.py:473: ValueWarning: No frequency information was provided, so inferred frequency D will be used.\n",
      "  self._init_dates(dates, freq)\n"
     ]
    },
    {
     "data": {
      "text/markdown": [
       "## Time Series"
      ],
      "text/plain": [
       "<IPython.core.display.Markdown object>"
      ]
     },
     "metadata": {},
     "output_type": "display_data"
    },
    {
     "data": {
      "text/markdown": [
       "### BTC Price Prediction"
      ],
      "text/plain": [
       "<IPython.core.display.Markdown object>"
      ]
     },
     "metadata": {},
     "output_type": "display_data"
    },
    {
     "data": {
      "text/markdown": [
       "This program predicts the next prices of a specified asset (gold or BTC) using the ARIMA model."
      ],
      "text/plain": [
       "<IPython.core.display.Markdown object>"
      ]
     },
     "metadata": {},
     "output_type": "display_data"
    },
    {
     "data": {
      "text/markdown": [
       "#### Preprocessing Output:"
      ],
      "text/plain": [
       "<IPython.core.display.Markdown object>"
      ]
     },
     "metadata": {},
     "output_type": "display_data"
    },
    {
     "name": "stdout",
     "output_type": "stream",
     "text": [
      "Date\n",
      "2014-09-17      457.334015\n",
      "2014-09-18      424.440002\n",
      "2014-09-19      394.795990\n",
      "2014-09-20      408.903992\n",
      "2014-09-21      398.821014\n",
      "                  ...     \n",
      "2023-11-18    36585.703125\n",
      "2023-11-19    37386.546875\n",
      "2023-11-20    37476.957031\n",
      "2023-11-21    35813.812500\n",
      "2023-11-22    37432.339844\n",
      "Name: Close, Length: 3354, dtype: float64\n"
     ]
    },
    {
     "data": {
      "text/markdown": [
       "#### Prediction Output:"
      ],
      "text/plain": [
       "<IPython.core.display.Markdown object>"
      ]
     },
     "metadata": {},
     "output_type": "display_data"
    },
    {
     "name": "stdout",
     "output_type": "stream",
     "text": [
      "   Timestamp  Predicted Price\n",
      "0 2023-11-23     37399.825714\n",
      "1 2023-11-24     37394.532829\n",
      "2 2023-11-25     37378.317561\n"
     ]
    }
   ],
   "source": [
    "import pandas as pd\n",
    "from datetime import datetime, timedelta\n",
    "import yfinance as yf\n",
    "import requests\n",
    "from bs4 import BeautifulSoup\n",
    "from statsmodels.tsa.arima.model import ARIMA\n",
    "from IPython.display import Markdown, display\n",
    "\n",
    "def display_markdown(content):\n",
    "    display(Markdown(content))\n",
    "\n",
    "def get_btc_data(start_date, end_date):\n",
    "    btc_data = yf.download('BTC-USD', start=start_date, end=end_date)\n",
    "    return btc_data['Close']\n",
    "\n",
    "def scrape_live_gold_data():\n",
    "    gold_url = 'https://www.investing.com/commodities/gold'\n",
    "    headers = {'User-Agent': 'Mozilla/5.0 (Windows NT 10.0; Win64; x64) AppleWebKit/537.36 (KHTML, like Gecko) Chrome/91.0.4472.124 Safari/537.36'}\n",
    "    response = requests.get(gold_url, headers=headers)\n",
    "\n",
    "    if response.status_code == 200:\n",
    "        soup = BeautifulSoup(response.content, 'html.parser')\n",
    "        price_element = soup.find('span', {'id': 'last_last'})\n",
    "        price = float(price_element.text.replace(',', ''))  \n",
    "\n",
    "        timestamp = datetime.now()\n",
    "\n",
    "        return pd.DataFrame({'Timestamp': [timestamp], 'price': [price]})\n",
    "    else:\n",
    "        raise ValueError(f\"Failed to retrieve gold data. Status code: {response.status_code}\")\n",
    "\n",
    "def preprocess_data(data):\n",
    "    return data\n",
    "\n",
    "def predict_next_prices(data, steps=3):\n",
    "    model = ARIMA(data, order=(5,1,0)) \n",
    "    model_fit = model.fit()\n",
    "    forecast = model_fit.forecast(steps=steps)\n",
    "    \n",
    "    next_timestamps = [data.index[-1] + timedelta(days=i) for i in range(1, steps + 1)]\n",
    "    next_prices = forecast.values\n",
    "\n",
    "    return pd.DataFrame({'Timestamp': next_timestamps, 'Predicted Price': next_prices})\n",
    "\n",
    "asset_type = \"btc\"\n",
    "start_date_input = input(\"Enter start date (YYYY-MM-DD): \")\n",
    "start_date = datetime.strptime(start_date_input, '%Y-%m-%d')\n",
    "\n",
    "end_date_input = input(\"Enter end date (YYYY-MM-DD): \")\n",
    "end_date = datetime.strptime(end_date_input, '%Y-%m-%d')\n",
    "\n",
    "if asset_type.lower() == 'btc':\n",
    "    asset_data = get_btc_data(start_date, end_date)\n",
    "    prediction_output = predict_next_prices(asset_data)\n",
    "elif asset_type.lower() == 'gold':\n",
    "    asset_data = scrape_live_gold_data()\n",
    "    prediction_output = preprocess_data(asset_data)  \n",
    "else:\n",
    "    raise ValueError(\"Invalid asset type. Please enter 'gold' or 'btc'.\")\n",
    "\n",
    "display_markdown('## Time Series')\n",
    "display_markdown('### BTC Price Prediction')\n",
    "\n",
    "display_markdown('This program predicts the next prices of a specified asset (gold or BTC) using the ARIMA model.')\n",
    "\n",
    "display_markdown('#### Preprocessing Output:')\n",
    "print(preprocess_data(asset_data))\n",
    "\n",
    "display_markdown('#### Prediction Output:')\n",
    "print(prediction_output)\n"
   ]
  },
  {
   "cell_type": "code",
   "execution_count": null,
   "id": "e2a9db35-6f5a-47f8-944d-d672eb644427",
   "metadata": {},
   "outputs": [],
   "source": []
  }
 ],
 "metadata": {
  "kernelspec": {
   "display_name": "Python 3 (ipykernel)",
   "language": "python",
   "name": "python3"
  },
  "language_info": {
   "codemirror_mode": {
    "name": "ipython",
    "version": 3
   },
   "file_extension": ".py",
   "mimetype": "text/x-python",
   "name": "python",
   "nbconvert_exporter": "python",
   "pygments_lexer": "ipython3",
   "version": "3.10.6"
  }
 },
 "nbformat": 4,
 "nbformat_minor": 5
}
