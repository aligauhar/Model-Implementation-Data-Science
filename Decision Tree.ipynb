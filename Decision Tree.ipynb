{
 "cells": [
  {
   "cell_type": "code",
   "execution_count": 6,
   "id": "25bb8c5f-e29a-43be-ac42-2cc45cef22fc",
   "metadata": {
    "tags": []
   },
   "outputs": [
    {
     "name": "stdout",
     "output_type": "stream",
     "text": [
      "\n",
      "This program demonstrates the use of a Decision Tree model for breast cancer classification. \n",
      "The model is trained on the Breast Cancer dataset, a well-known dataset for binary classification tasks.\n",
      "The dataset contains features calculated from fine needle aspirates (FNA) of breast masses, \n",
      "and the task is to predict whether a mass is malignant or benign.\n",
      "\n"
     ]
    },
    {
     "data": {
      "text/markdown": [
       "## Decision Tree\n",
       "```\n",
       "|--- mean concave points <= 0.05\n",
       "|   |--- worst radius <= 16.83\n",
       "|   |   |--- area error <= 48.70\n",
       "|   |   |   |--- worst smoothness <= 0.18\n",
       "|   |   |   |   |--- smoothness error <= 0.00\n",
       "|   |   |   |   |   |--- worst texture <= 27.76\n",
       "|   |   |   |   |   |   |--- class: 1\n",
       "|   |   |   |   |   |--- worst texture >  27.76\n",
       "|   |   |   |   |   |   |--- class: 0\n",
       "|   |   |   |   |--- smoothness error >  0.00\n",
       "|   |   |   |   |   |--- worst texture <= 33.35\n",
       "|   |   |   |   |   |   |--- class: 1\n",
       "|   |   |   |   |   |--- worst texture >  33.35\n",
       "|   |   |   |   |   |   |--- worst texture <= 33.56\n",
       "|   |   |   |   |   |   |   |--- class: 0\n",
       "|   |   |   |   |   |   |--- worst texture >  33.56\n",
       "|   |   |   |   |   |   |   |--- class: 1\n",
       "|   |   |   |--- worst smoothness >  0.18\n",
       "|   |   |   |   |--- class: 0\n",
       "|   |   |--- area error >  48.70\n",
       "|   |   |   |--- concavity error <= 0.02\n",
       "|   |   |   |   |--- class: 0\n",
       "|   |   |   |--- concavity error >  0.02\n",
       "|   |   |   |   |--- class: 1\n",
       "|   |--- worst radius >  16.83\n",
       "|   |   |--- mean texture <= 16.19\n",
       "|   |   |   |--- class: 1\n",
       "|   |   |--- mean texture >  16.19\n",
       "|   |   |   |--- concave points error <= 0.01\n",
       "|   |   |   |   |--- class: 0\n",
       "|   |   |   |--- concave points error >  0.01\n",
       "|   |   |   |   |--- class: 1\n",
       "|--- mean concave points >  0.05\n",
       "|   |--- worst concave points <= 0.15\n",
       "|   |   |--- worst perimeter <= 115.25\n",
       "|   |   |   |--- mean texture <= 21.06\n",
       "|   |   |   |   |--- class: 1\n",
       "|   |   |   |--- mean texture >  21.06\n",
       "|   |   |   |   |--- class: 0\n",
       "|   |   |--- worst perimeter >  115.25\n",
       "|   |   |   |--- class: 0\n",
       "|   |--- worst concave points >  0.15\n",
       "|   |   |--- fractal dimension error <= 0.01\n",
       "|   |   |   |--- class: 0\n",
       "|   |   |--- fractal dimension error >  0.01\n",
       "|   |   |   |--- class: 1\n",
       "\n",
       "```"
      ],
      "text/plain": [
       "<IPython.core.display.Markdown object>"
      ]
     },
     "metadata": {},
     "output_type": "display_data"
    },
    {
     "name": "stdout",
     "output_type": "stream",
     "text": [
      "\n",
      "Enter features for prediction. These features represent characteristics of a breast mass.\n",
      "Please enter numerical values for the following features:\n",
      "\n",
      "mean radius: Mean radius of the cell nuclei\n"
     ]
    },
    {
     "name": "stdin",
     "output_type": "stream",
     "text": [
      "Enter mean radius:  45\n"
     ]
    },
    {
     "name": "stdout",
     "output_type": "stream",
     "text": [
      "mean texture: Mean texture of the cell nuclei\n"
     ]
    },
    {
     "name": "stdin",
     "output_type": "stream",
     "text": [
      "Enter mean texture:  43\n"
     ]
    },
    {
     "name": "stdout",
     "output_type": "stream",
     "text": [
      "mean perimeter: Mean perimeter of the cell nuclei\n"
     ]
    },
    {
     "name": "stdin",
     "output_type": "stream",
     "text": [
      "Enter mean perimeter:  67\n"
     ]
    },
    {
     "name": "stdout",
     "output_type": "stream",
     "text": [
      "mean area: Mean area of the cell nuclei\n"
     ]
    },
    {
     "name": "stdin",
     "output_type": "stream",
     "text": [
      "Enter mean area:  43\n"
     ]
    },
    {
     "name": "stdout",
     "output_type": "stream",
     "text": [
      "mean smoothness: Mean smoothness of the cell nuclei\n"
     ]
    },
    {
     "name": "stdin",
     "output_type": "stream",
     "text": [
      "Enter mean smoothness:  78\n"
     ]
    },
    {
     "name": "stdout",
     "output_type": "stream",
     "text": [
      "mean compactness: Mean compactness of the cell nuclei\n"
     ]
    },
    {
     "name": "stdin",
     "output_type": "stream",
     "text": [
      "Enter mean compactness:  43\n"
     ]
    },
    {
     "name": "stdout",
     "output_type": "stream",
     "text": [
      "mean concavity: Mean concavity of the cell nuclei\n"
     ]
    },
    {
     "name": "stdin",
     "output_type": "stream",
     "text": [
      "Enter mean concavity:  89\n"
     ]
    },
    {
     "name": "stdout",
     "output_type": "stream",
     "text": [
      "mean concave points: Mean number of concave portions of the contour\n"
     ]
    },
    {
     "name": "stdin",
     "output_type": "stream",
     "text": [
      "Enter mean concave points:  43\n"
     ]
    },
    {
     "name": "stdout",
     "output_type": "stream",
     "text": [
      "mean symmetry: Mean symmetry of the cell nuclei\n"
     ]
    },
    {
     "name": "stdin",
     "output_type": "stream",
     "text": [
      "Enter mean symmetry:  2\n"
     ]
    },
    {
     "name": "stdout",
     "output_type": "stream",
     "text": [
      "mean fractal dimension: Mean fractal dimension of the cell nuclei\n"
     ]
    },
    {
     "name": "stdin",
     "output_type": "stream",
     "text": [
      "Enter mean fractal dimension:  1\n"
     ]
    },
    {
     "name": "stdout",
     "output_type": "stream",
     "text": [
      "radius error: Standard error of the radius of the cell nuclei\n"
     ]
    },
    {
     "name": "stdin",
     "output_type": "stream",
     "text": [
      "Enter radius error:  3\n"
     ]
    },
    {
     "name": "stdout",
     "output_type": "stream",
     "text": [
      "texture error: Standard error of the texture of the cell nuclei\n"
     ]
    },
    {
     "name": "stdin",
     "output_type": "stream",
     "text": [
      "Enter texture error:  67\n"
     ]
    },
    {
     "name": "stdout",
     "output_type": "stream",
     "text": [
      "perimeter error: Standard error of the perimeter of the cell nuclei\n"
     ]
    },
    {
     "name": "stdin",
     "output_type": "stream",
     "text": [
      "Enter perimeter error:  87\n"
     ]
    },
    {
     "name": "stdout",
     "output_type": "stream",
     "text": [
      "area error: Standard error of the area of the cell nuclei\n"
     ]
    },
    {
     "name": "stdin",
     "output_type": "stream",
     "text": [
      "Enter area error:  99\n"
     ]
    },
    {
     "name": "stdout",
     "output_type": "stream",
     "text": [
      "smoothness error: Standard error of the smoothness of the cell nuclei\n"
     ]
    },
    {
     "name": "stdin",
     "output_type": "stream",
     "text": [
      "Enter smoothness error:  123\n"
     ]
    },
    {
     "name": "stdout",
     "output_type": "stream",
     "text": [
      "compactness error: Standard error of the compactness of the cell nuclei\n"
     ]
    },
    {
     "name": "stdin",
     "output_type": "stream",
     "text": [
      "Enter compactness error:  12345\n"
     ]
    },
    {
     "name": "stdout",
     "output_type": "stream",
     "text": [
      "concavity error: Standard error of the concavity of the cell nuclei\n"
     ]
    },
    {
     "name": "stdin",
     "output_type": "stream",
     "text": [
      "Enter concavity error:  765\n"
     ]
    },
    {
     "name": "stdout",
     "output_type": "stream",
     "text": [
      "concave points error: Standard error of the concave points of the cell nuclei\n"
     ]
    },
    {
     "name": "stdin",
     "output_type": "stream",
     "text": [
      "Enter concave points error:  456\n"
     ]
    },
    {
     "name": "stdout",
     "output_type": "stream",
     "text": [
      "symmetry error: Standard error of the symmetry of the cell nuclei\n"
     ]
    },
    {
     "name": "stdin",
     "output_type": "stream",
     "text": [
      "Enter symmetry error:  654\n"
     ]
    },
    {
     "name": "stdout",
     "output_type": "stream",
     "text": [
      "fractal dimension error: Standard error of the fractal dimension of the cell nuclei\n"
     ]
    },
    {
     "name": "stdin",
     "output_type": "stream",
     "text": [
      "Enter fractal dimension error:  456\n"
     ]
    },
    {
     "name": "stdout",
     "output_type": "stream",
     "text": [
      "worst radius: Worst (largest) radius of the cell nuclei\n"
     ]
    },
    {
     "name": "stdin",
     "output_type": "stream",
     "text": [
      "Enter worst radius:  876\n"
     ]
    },
    {
     "name": "stdout",
     "output_type": "stream",
     "text": [
      "worst texture: Worst (largest) texture of the cell nuclei\n"
     ]
    },
    {
     "name": "stdin",
     "output_type": "stream",
     "text": [
      "Enter worst texture:  897\n"
     ]
    },
    {
     "name": "stdout",
     "output_type": "stream",
     "text": [
      "worst perimeter: Worst (largest) perimeter of the cell nuclei\n"
     ]
    },
    {
     "name": "stdin",
     "output_type": "stream",
     "text": [
      "Enter worst perimeter:  456\n"
     ]
    },
    {
     "name": "stdout",
     "output_type": "stream",
     "text": [
      "worst area: Worst (largest) area of the cell nuclei\n"
     ]
    },
    {
     "name": "stdin",
     "output_type": "stream",
     "text": [
      "Enter worst area:  987\n"
     ]
    },
    {
     "name": "stdout",
     "output_type": "stream",
     "text": [
      "worst smoothness: Worst (largest) smoothness of the cell nuclei\n"
     ]
    },
    {
     "name": "stdin",
     "output_type": "stream",
     "text": [
      "Enter worst smoothness:  65\n"
     ]
    },
    {
     "name": "stdout",
     "output_type": "stream",
     "text": [
      "worst compactness: Worst (largest) compactness of the cell nuclei\n"
     ]
    },
    {
     "name": "stdin",
     "output_type": "stream",
     "text": [
      "Enter worst compactness:  876\n"
     ]
    },
    {
     "name": "stdout",
     "output_type": "stream",
     "text": [
      "worst concavity: Worst (largest) concavity of the cell nuclei\n"
     ]
    },
    {
     "name": "stdin",
     "output_type": "stream",
     "text": [
      "Enter worst concavity:  987\n"
     ]
    },
    {
     "name": "stdout",
     "output_type": "stream",
     "text": [
      "worst concave points: Worst (largest) number of concave portions of the contour\n"
     ]
    },
    {
     "name": "stdin",
     "output_type": "stream",
     "text": [
      "Enter worst concave points:  456\n"
     ]
    },
    {
     "name": "stdout",
     "output_type": "stream",
     "text": [
      "worst symmetry: Worst (largest) symmetry of the cell nuclei\n"
     ]
    },
    {
     "name": "stdin",
     "output_type": "stream",
     "text": [
      "Enter worst symmetry:  987\n"
     ]
    },
    {
     "name": "stdout",
     "output_type": "stream",
     "text": [
      "worst fractal dimension: Worst (largest) fractal dimension of the cell nuclei\n"
     ]
    },
    {
     "name": "stdin",
     "output_type": "stream",
     "text": [
      "Enter worst fractal dimension:  54\n"
     ]
    },
    {
     "name": "stdout",
     "output_type": "stream",
     "text": [
      "\n",
      "User Input:\n"
     ]
    },
    {
     "data": {
      "text/html": [
       "<div>\n",
       "<style scoped>\n",
       "    .dataframe tbody tr th:only-of-type {\n",
       "        vertical-align: middle;\n",
       "    }\n",
       "\n",
       "    .dataframe tbody tr th {\n",
       "        vertical-align: top;\n",
       "    }\n",
       "\n",
       "    .dataframe thead th {\n",
       "        text-align: right;\n",
       "    }\n",
       "</style>\n",
       "<table border=\"1\" class=\"dataframe\">\n",
       "  <thead>\n",
       "    <tr style=\"text-align: right;\">\n",
       "      <th></th>\n",
       "      <th>mean radius</th>\n",
       "      <th>mean texture</th>\n",
       "      <th>mean perimeter</th>\n",
       "      <th>mean area</th>\n",
       "      <th>mean smoothness</th>\n",
       "      <th>mean compactness</th>\n",
       "      <th>mean concavity</th>\n",
       "      <th>mean concave points</th>\n",
       "      <th>mean symmetry</th>\n",
       "      <th>mean fractal dimension</th>\n",
       "      <th>...</th>\n",
       "      <th>worst radius</th>\n",
       "      <th>worst texture</th>\n",
       "      <th>worst perimeter</th>\n",
       "      <th>worst area</th>\n",
       "      <th>worst smoothness</th>\n",
       "      <th>worst compactness</th>\n",
       "      <th>worst concavity</th>\n",
       "      <th>worst concave points</th>\n",
       "      <th>worst symmetry</th>\n",
       "      <th>worst fractal dimension</th>\n",
       "    </tr>\n",
       "  </thead>\n",
       "  <tbody>\n",
       "    <tr>\n",
       "      <th>0</th>\n",
       "      <td>45.0</td>\n",
       "      <td>43.0</td>\n",
       "      <td>67.0</td>\n",
       "      <td>43.0</td>\n",
       "      <td>78.0</td>\n",
       "      <td>43.0</td>\n",
       "      <td>89.0</td>\n",
       "      <td>43.0</td>\n",
       "      <td>2.0</td>\n",
       "      <td>1.0</td>\n",
       "      <td>...</td>\n",
       "      <td>876.0</td>\n",
       "      <td>897.0</td>\n",
       "      <td>456.0</td>\n",
       "      <td>987.0</td>\n",
       "      <td>65.0</td>\n",
       "      <td>876.0</td>\n",
       "      <td>987.0</td>\n",
       "      <td>456.0</td>\n",
       "      <td>987.0</td>\n",
       "      <td>54.0</td>\n",
       "    </tr>\n",
       "  </tbody>\n",
       "</table>\n",
       "<p>1 rows × 30 columns</p>\n",
       "</div>"
      ],
      "text/plain": [
       "   mean radius  mean texture  mean perimeter  mean area  mean smoothness   \n",
       "0         45.0          43.0            67.0       43.0             78.0  \\\n",
       "\n",
       "   mean compactness  mean concavity  mean concave points  mean symmetry   \n",
       "0              43.0            89.0                 43.0            2.0  \\\n",
       "\n",
       "   mean fractal dimension  ...  worst radius  worst texture  worst perimeter   \n",
       "0                     1.0  ...         876.0          897.0            456.0  \\\n",
       "\n",
       "   worst area  worst smoothness  worst compactness  worst concavity   \n",
       "0       987.0              65.0              876.0            987.0  \\\n",
       "\n",
       "   worst concave points  worst symmetry  worst fractal dimension  \n",
       "0                 456.0           987.0                     54.0  \n",
       "\n",
       "[1 rows x 30 columns]"
      ]
     },
     "metadata": {},
     "output_type": "display_data"
    },
    {
     "name": "stdout",
     "output_type": "stream",
     "text": [
      "\n",
      "Prediction for the user input: 1\n",
      "\n",
      "## Model Evaluation Metrics\n",
      "\n",
      "**Accuracy**: 94.74%\n",
      "**Precision**: 94.74%\n",
      "**Recall**: 94.74%\n",
      "**F1 Score**: 94.74%\n",
      "**ROC AUC Score**: 94.40%\n",
      "\n",
      "**Confusion Matrix:**\n"
     ]
    },
    {
     "data": {
      "text/html": [
       "<div>\n",
       "<style scoped>\n",
       "    .dataframe tbody tr th:only-of-type {\n",
       "        vertical-align: middle;\n",
       "    }\n",
       "\n",
       "    .dataframe tbody tr th {\n",
       "        vertical-align: top;\n",
       "    }\n",
       "\n",
       "    .dataframe thead th {\n",
       "        text-align: right;\n",
       "    }\n",
       "</style>\n",
       "<table border=\"1\" class=\"dataframe\">\n",
       "  <thead>\n",
       "    <tr style=\"text-align: right;\">\n",
       "      <th></th>\n",
       "      <th>0</th>\n",
       "      <th>1</th>\n",
       "    </tr>\n",
       "  </thead>\n",
       "  <tbody>\n",
       "    <tr>\n",
       "      <th>0</th>\n",
       "      <td>40</td>\n",
       "      <td>3</td>\n",
       "    </tr>\n",
       "    <tr>\n",
       "      <th>1</th>\n",
       "      <td>3</td>\n",
       "      <td>68</td>\n",
       "    </tr>\n",
       "  </tbody>\n",
       "</table>\n",
       "</div>"
      ],
      "text/plain": [
       "    0   1\n",
       "0  40   3\n",
       "1   3  68"
      ]
     },
     "metadata": {},
     "output_type": "display_data"
    },
    {
     "name": "stdout",
     "output_type": "stream",
     "text": [
      "\n",
      "**Classification Report:**\n",
      "              precision    recall  f1-score   support\n",
      "\n",
      "           0       0.93      0.93      0.93        43\n",
      "           1       0.96      0.96      0.96        71\n",
      "\n",
      "    accuracy                           0.95       114\n",
      "   macro avg       0.94      0.94      0.94       114\n",
      "weighted avg       0.95      0.95      0.95       114\n",
      "\n"
     ]
    }
   ],
   "source": [
    "import pandas as pd\n",
    "from sklearn.datasets import load_breast_cancer\n",
    "from sklearn.model_selection import train_test_split\n",
    "from sklearn.tree import DecisionTreeClassifier, export_text\n",
    "from sklearn.metrics import accuracy_score, precision_score, recall_score, f1_score, roc_auc_score, confusion_matrix, classification_report\n",
    "from IPython.display import display, Markdown\n",
    "\n",
    "print(\"\"\"\n",
    "This program demonstrates the use of a Decision Tree model for breast cancer classification. \n",
    "The model is trained on the Breast Cancer dataset, a well-known dataset for binary classification tasks.\n",
    "The dataset contains features calculated from fine needle aspirates (FNA) of breast masses, \n",
    "and the task is to predict whether a mass is malignant or benign.\n",
    "\"\"\")\n",
    "\n",
    "data = load_breast_cancer()\n",
    "df = pd.DataFrame(data.data, columns=data.feature_names)\n",
    "df['target'] = data.target\n",
    "\n",
    "feature_descriptions = {\n",
    "    'mean radius': 'Mean radius of the cell nuclei',\n",
    "    'mean texture': 'Mean texture of the cell nuclei',\n",
    "    'mean perimeter': 'Mean perimeter of the cell nuclei',\n",
    "    'mean area': 'Mean area of the cell nuclei',\n",
    "    'mean smoothness': 'Mean smoothness of the cell nuclei',\n",
    "    'mean compactness': 'Mean compactness of the cell nuclei',\n",
    "    'mean concavity': 'Mean concavity of the cell nuclei',\n",
    "    'mean concave points': 'Mean number of concave portions of the contour',\n",
    "    'mean symmetry': 'Mean symmetry of the cell nuclei',\n",
    "    'mean fractal dimension': 'Mean fractal dimension of the cell nuclei',\n",
    "    'radius error': 'Standard error of the radius of the cell nuclei',\n",
    "    'texture error': 'Standard error of the texture of the cell nuclei',\n",
    "    'perimeter error': 'Standard error of the perimeter of the cell nuclei',\n",
    "    'area error': 'Standard error of the area of the cell nuclei',\n",
    "    'smoothness error': 'Standard error of the smoothness of the cell nuclei',\n",
    "    'compactness error': 'Standard error of the compactness of the cell nuclei',\n",
    "    'concavity error': 'Standard error of the concavity of the cell nuclei',\n",
    "    'concave points error': 'Standard error of the concave points of the cell nuclei',\n",
    "    'symmetry error': 'Standard error of the symmetry of the cell nuclei',\n",
    "    'fractal dimension error': 'Standard error of the fractal dimension of the cell nuclei',\n",
    "    'worst radius': 'Worst (largest) radius of the cell nuclei',\n",
    "    'worst texture': 'Worst (largest) texture of the cell nuclei',\n",
    "    'worst perimeter': 'Worst (largest) perimeter of the cell nuclei',\n",
    "    'worst area': 'Worst (largest) area of the cell nuclei',\n",
    "    'worst smoothness': 'Worst (largest) smoothness of the cell nuclei',\n",
    "    'worst compactness': 'Worst (largest) compactness of the cell nuclei',\n",
    "    'worst concavity': 'Worst (largest) concavity of the cell nuclei',\n",
    "    'worst concave points': 'Worst (largest) number of concave portions of the contour',\n",
    "    'worst symmetry': 'Worst (largest) symmetry of the cell nuclei',\n",
    "    'worst fractal dimension': 'Worst (largest) fractal dimension of the cell nuclei',\n",
    "}\n",
    "\n",
    "\n",
    "X = df.drop('target', axis=1)\n",
    "y = df['target']\n",
    "X_train, X_test, y_train, y_test = train_test_split(X, y, test_size=0.2, random_state=42)\n",
    "\n",
    "model = DecisionTreeClassifier(random_state=42)\n",
    "model.fit(X_train, y_train)\n",
    "\n",
    "tree_rules = export_text(model, feature_names=list(X.columns))\n",
    "display(Markdown(\"## Decision Tree\\n\" + f\"```\\n{tree_rules}\\n```\"))\n",
    "\n",
    "print(\"\"\"\n",
    "Enter features for prediction. These features represent characteristics of a breast mass.\n",
    "Please enter numerical values for the following features:\n",
    "\"\"\")\n",
    "\n",
    "user_input_values = []\n",
    "for feature in X.columns:\n",
    "    print(f\"{feature}: {feature_descriptions.get(feature, 'Description not available')}\")\n",
    "    \n",
    "    value = float(input(f\"Enter {feature}: \"))\n",
    "    user_input_values.append(value)\n",
    "\n",
    "user_input_df = pd.DataFrame([user_input_values], columns=X.columns)\n",
    "print(\"\\nUser Input:\")\n",
    "display(user_input_df)\n",
    "\n",
    "user_prediction = model.predict(user_input_df)[0]\n",
    "print(f\"\\nPrediction for the user input: {user_prediction}\\n\")\n",
    "\n",
    "y_pred = model.predict(X_test)\n",
    "\n",
    "accuracy = accuracy_score(y_test, y_pred)\n",
    "precision = precision_score(y_test, y_pred, average='weighted')\n",
    "recall = recall_score(y_test, y_pred, average='weighted')\n",
    "f1 = f1_score(y_test, y_pred, average='weighted')\n",
    "roc_auc = roc_auc_score(y_test, y_pred, average='weighted')\n",
    "\n",
    "conf_matrix = confusion_matrix(y_test, y_pred)\n",
    "\n",
    "print(\"## Model Evaluation Metrics\")\n",
    "print(f\"\\n**Accuracy**: {accuracy:.2%}\")\n",
    "print(f\"**Precision**: {precision:.2%}\")\n",
    "print(f\"**Recall**: {recall:.2%}\")\n",
    "print(f\"**F1 Score**: {f1:.2%}\")\n",
    "print(f\"**ROC AUC Score**: {roc_auc:.2%}\")\n",
    "\n",
    "print(\"\\n**Confusion Matrix:**\")\n",
    "display(pd.DataFrame(conf_matrix, columns=df['target'].unique(), index=df['target'].unique()))\n",
    "\n",
    "print(\"\\n**Classification Report:**\")\n",
    "print(classification_report(y_test, y_pred))\n"
   ]
  },
  {
   "cell_type": "code",
   "execution_count": null,
   "id": "67bb2b80-f0d1-4a1a-b193-6f5a418a1fee",
   "metadata": {},
   "outputs": [],
   "source": []
  }
 ],
 "metadata": {
  "kernelspec": {
   "display_name": "Python 3 (ipykernel)",
   "language": "python",
   "name": "python3"
  },
  "language_info": {
   "codemirror_mode": {
    "name": "ipython",
    "version": 3
   },
   "file_extension": ".py",
   "mimetype": "text/x-python",
   "name": "python",
   "nbconvert_exporter": "python",
   "pygments_lexer": "ipython3",
   "version": "3.10.6"
  }
 },
 "nbformat": 4,
 "nbformat_minor": 5
}
