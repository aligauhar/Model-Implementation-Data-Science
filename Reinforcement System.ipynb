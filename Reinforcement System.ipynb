{
 "cells": [
  {
   "cell_type": "code",
   "execution_count": 8,
   "id": "4107605f-44c4-4e64-ba03-2122e8ee9c89",
   "metadata": {
    "tags": []
   },
   "outputs": [
    {
     "data": {
      "text/html": [
       "<h1 style='color:blue;'>Reinforcement Learning Navigation</h1>"
      ],
      "text/plain": [
       "<IPython.core.display.HTML object>"
      ]
     },
     "metadata": {},
     "output_type": "display_data"
    },
    {
     "name": "stdout",
     "output_type": "stream",
     "text": [
      "In this example, a Q-learning agent navigates a grid world to reach a goal while avoiding obstacles.\n"
     ]
    },
    {
     "data": {
      "text/html": [
       "<h2>Model Training and Navigation</h2>"
      ],
      "text/plain": [
       "<IPython.core.display.HTML object>"
      ]
     },
     "metadata": {},
     "output_type": "display_data"
    },
    {
     "data": {
      "text/html": [
       "<h2>Visualization of Agent's Path</h2>"
      ],
      "text/plain": [
       "<IPython.core.display.HTML object>"
      ]
     },
     "metadata": {},
     "output_type": "display_data"
    },
    {
     "data": {
      "image/png": "[encoded data removed]",
      "text/plain": [
       "<Figure size 640x480 with 2 Axes>"
      ]
     },
     "metadata": {},
     "output_type": "display_data"
    },
    {
     "data": {
      "text/html": [
       "<h2>User Input for Prediction</h2>"
      ],
      "text/plain": [
       "<IPython.core.display.HTML object>"
      ]
     },
     "metadata": {},
     "output_type": "display_data"
    },
    {
     "name": "stdin",
     "output_type": "stream",
     "text": [
      "Enter the x-coordinate (0 to 4) for prediction:  2\n",
      "Enter the y-coordinate (0 to 4) for prediction:  3\n"
     ]
    },
    {
     "name": "stdout",
     "output_type": "stream",
     "text": [
      "\n",
      "Predicted action for (2, 3): 1 (0: up, 1: down, 2: left, 3: right)\n"
     ]
    }
   ],
   "source": [
    "import numpy as np\n",
    "import matplotlib.pyplot as plt\n",
    "from IPython.display import display, HTML\n",
    "\n",
    "class QLearningNavigation:\n",
    "    def __init__(self, grid_size, learning_rate=0.1, discount_factor=0.9, exploration_prob=0.2):\n",
    "        self.grid_size = grid_size\n",
    "        self.learning_rate = learning_rate\n",
    "        self.discount_factor = discount_factor\n",
    "        self.exploration_prob = exploration_prob\n",
    "        self.q_table = np.zeros((grid_size, grid_size, 4)) \n",
    "\n",
    "    def update_q_value(self, state, action, reward, next_state):\n",
    "        current_q_value = self.q_table[state[0], state[1], action]\n",
    "        best_next_q_value = np.max(self.q_table[next_state[0], next_state[1]])\n",
    "        new_q_value = (1 - self.learning_rate) * current_q_value + \\\n",
    "                      self.learning_rate * (reward + self.discount_factor * best_next_q_value)\n",
    "        self.q_table[state[0], state[1], action] = new_q_value\n",
    "\n",
    "    def choose_action(self, state):\n",
    "        if np.random.rand() < self.exploration_prob:\n",
    "            return np.random.choice(4)  \n",
    "        else:\n",
    "            return np.argmax(self.q_table[state[0], state[1]])\n",
    "\n",
    "    def navigate(self, start, goal, obstacles, max_steps=100):\n",
    "        state = start\n",
    "        path = [state]\n",
    "\n",
    "        for _ in range(max_steps):\n",
    "            action = self.choose_action(state)\n",
    "\n",
    "           \n",
    "            if action == 0 and state[0] > 0:\n",
    "                next_state = (state[0] - 1, state[1])\n",
    "            elif action == 1 and state[0] < self.grid_size - 1:\n",
    "                next_state = (state[0] + 1, state[1])\n",
    "            elif action == 2 and state[1] > 0:\n",
    "                next_state = (state[0], state[1] - 1)\n",
    "            elif action == 3 and state[1] < self.grid_size - 1:\n",
    "                next_state = (state[0], state[1] + 1)\n",
    "            else:\n",
    "                next_state = state\n",
    "\n",
    "           \n",
    "            reward = -1 \n",
    "            if next_state == goal:\n",
    "                reward = 10 \n",
    "            elif next_state in obstacles:\n",
    "                reward = -10 \n",
    "\n",
    "          \n",
    "            self.update_q_value(state, action, reward, next_state)\n",
    "            state = next_state\n",
    "            path.append(state)\n",
    "\n",
    "         \n",
    "            if state == goal:\n",
    "                print(\"Goal reached!\")\n",
    "                break\n",
    "\n",
    "        return path\n",
    "\n",
    "\n",
    "def visualize_path(grid_size, obstacles, path):\n",
    "    grid = np.zeros((grid_size, grid_size))\n",
    "\n",
    "    for obstacle in obstacles:\n",
    "        grid[obstacle[0], obstacle[1]] = -1 \n",
    "\n",
    "    for step, position in enumerate(path):\n",
    "        grid[position[0], position[1]] = step\n",
    "\n",
    "    plt.imshow(grid, cmap='viridis', origin='lower')\n",
    "    plt.colorbar(label='Steps')\n",
    "    plt.title('Agent\\'s Path in the Grid World')\n",
    "    plt.show()\n",
    "\n",
    "# Introduction\n",
    "display(HTML(\"<h1 style='color:blue;'>Reinforcement Learning Navigation</h1>\"))\n",
    "print(\"In this example, a Q-learning agent navigates a grid world to reach a goal while avoiding obstacles.\")\n",
    "\n",
    "# Model Heading\n",
    "display(HTML(\"<h2>Model Training and Navigation</h2>\"))\n",
    "\n",
    "\n",
    "grid_size = 5\n",
    "start = (0, 0)\n",
    "goal = (4, 4)\n",
    "obstacles = [(2, 2), (3, 2), (1, 4)]\n",
    "\n",
    "navigation_model = QLearningNavigation(grid_size)\n",
    "path = navigation_model.navigate(start, goal, obstacles)\n",
    "\n",
    "\n",
    "display(HTML(\"<h2>Visualization of Agent's Path</h2>\"))\n",
    "visualize_path(grid_size, obstacles, path)\n",
    "\n",
    "\n",
    "display(HTML(\"<h2>User Input for Prediction</h2>\"))\n",
    "user_input_x = int(input(f\"Enter the x-coordinate (0 to {grid_size-1}) for prediction: \"))\n",
    "user_input_y = int(input(f\"Enter the y-coordinate (0 to {grid_size-1}) for prediction: \"))\n",
    "\n",
    "\n",
    "if 0 <= user_input_x < grid_size and 0 <= user_input_y < grid_size:\n",
    "    predicted_action = navigation_model.choose_action((user_input_x, user_input_y))\n",
    "    print(f\"\\nPredicted action for ({user_input_x}, {user_input_y}): {predicted_action} (0: up, 1: down, 2: left, 3: right)\")\n",
    "else:\n",
    "    print(\"Invalid coordinates. Please enter valid coordinates within the grid size.\")\n"
   ]
  },
  {
   "cell_type": "code",
   "execution_count": null,
   "id": "91a8489c-e371-4ccf-8e5d-2fc8d48371bd",
   "metadata": {},
   "outputs": [],
   "source": []
  }
 ],
 "metadata": {
  "kernelspec": {
   "display_name": "Python 3 (ipykernel)",
   "language": "python",
   "name": "python3"
  },
  "language_info": {
   "codemirror_mode": {
    "name": "ipython",
    "version": 3
   },
   "file_extension": ".py",
   "mimetype": "text/x-python",
   "name": "python",
   "nbconvert_exporter": "python",
   "pygments_lexer": "ipython3",
   "version": "3.10.6"
  }
 },
 "nbformat": 4,
 "nbformat_minor": 5
}
