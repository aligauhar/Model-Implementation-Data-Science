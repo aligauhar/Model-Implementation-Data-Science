{
 "cells": [
  {
   "cell_type": "code",
   "execution_count": 1,
   "id": "30e9d246-d263-4750-9389-3342c0327e4d",
   "metadata": {
    "tags": []
   },
   "outputs": [
    {
     "name": "stdout",
     "output_type": "stream",
     "text": [
      "Column Names: Index(['scenario original ', 'Generated scenario',\n",
      "       'Relevant act/ordinance Apply', 'Relevant section  of Act Apply if any',\n",
      "       'list of subsection'],\n",
      "      dtype='object')\n"
     ]
    },
    {
     "name": "stdin",
     "output_type": "stream",
     "text": [
      "Describe your scenario:  i was not given my share in the inheritance\n"
     ]
    },
    {
     "name": "stdout",
     "output_type": "stream",
     "text": [
      "\n",
      "Relevant Information:\n",
      "===================================\n",
      "Relevant Act/Ordinance: THE MUSLIM FAMILY LAWS ORDINANCE, 1961\n",
      "Relevant Section: 4. Succession.__\n",
      "List of Subsection: Succession.__\n",
      "\n",
      "In the event of the death of any son or daughter of the propositus before the\n",
      "opening of succession, the children of such son or daughter, if any, living at the time the succession\n",
      "opens, shall per stripes receive a share equivalent to the share which such son or daughter, as the\n",
      "case may be, would have received if alive.\n",
      "===================================\n"
     ]
    }
   ],
   "source": [
    "import pandas as pd\n",
    "from sklearn.feature_extraction.text import TfidfVectorizer\n",
    "from sklearn.metrics.pairwise import cosine_similarity\n",
    "\n",
    "dataset = pd.read_excel('dataset.xlsx')\n",
    "\n",
    "print(\"Column Names:\", dataset.columns)\n",
    "\n",
    "dataset['combined_text'] = dataset.apply(lambda row: ' '.join(row.values.astype(str)), axis=1)\n",
    "corpus = dataset['combined_text'].astype(str)\n",
    "\n",
    "vectorizer = TfidfVectorizer()\n",
    "X = vectorizer.fit_transform(corpus)\n",
    "\n",
    "user_scenario = input(\"Describe your scenario: \")\n",
    "\n",
    "user_input_vector = vectorizer.transform([user_scenario])\n",
    "\n",
    "similarities = cosine_similarity(user_input_vector, X).flatten()\n",
    "\n",
    "most_similar_index = similarities.argmax()\n",
    "\n",
    "relevant_info = dataset.iloc[most_similar_index]\n",
    "\n",
    "print(\"\\nRelevant Information:\")\n",
    "print(\"===================================\")\n",
    "print(f\"Relevant Act/Ordinance: {relevant_info['Relevant act/ordinance Apply']}\")\n",
    "print(f\"Relevant Section: {relevant_info['Relevant section  of Act Apply if any']}\")\n",
    "print(f\"List of Subsection: {relevant_info['list of subsection']}\")\n",
    "print(\"===================================\")\n"
   ]
  },
  {
   "cell_type": "code",
   "execution_count": null,
   "id": "9e626380-93fc-44cf-b8f5-721a1d2563a9",
   "metadata": {},
   "outputs": [],
   "source": []
  }
 ],
 "metadata": {
  "kernelspec": {
   "display_name": "Python 3 (ipykernel)",
   "language": "python",
   "name": "python3"
  },
  "language_info": {
   "codemirror_mode": {
    "name": "ipython",
    "version": 3
   },
   "file_extension": ".py",
   "mimetype": "text/x-python",
   "name": "python",
   "nbconvert_exporter": "python",
   "pygments_lexer": "ipython3",
   "version": "3.10.6"
  }
 },
 "nbformat": 4,
 "nbformat_minor": 5
}
